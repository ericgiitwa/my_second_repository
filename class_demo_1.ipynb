{
 "cells": [
  {
   "cell_type": "markdown",
   "metadata": {},
   "source": [
    "# Class_demo_1\n",
    "\n",
    "## introduction\n",
    "### Learning environments\n",
    "* to run codes that were written years back to run them in the version it was written in\n",
    "\n",
    "### Forking\n",
    "* copying content from someone elses github repository and saving it on your github\n",
    "\n",
    "### cloning\n",
    "* coppying work from github to local computer to edit content and workbooks\n"
   ]
  },
  {
   "cell_type": "code",
   "execution_count": null,
   "metadata": {},
   "outputs": [],
   "source": []
  }
 ],
 "metadata": {
  "kernelspec": {
   "display_name": "Python (learn-env)",
   "language": "python",
   "name": "learn-env"
  },
  "language_info": {
   "codemirror_mode": {
    "name": "ipython",
    "version": 3
   },
   "file_extension": ".py",
   "mimetype": "text/x-python",
   "name": "python",
   "nbconvert_exporter": "python",
   "pygments_lexer": "ipython3",
   "version": "3.8.5"
  }
 },
 "nbformat": 4,
 "nbformat_minor": 4
}
